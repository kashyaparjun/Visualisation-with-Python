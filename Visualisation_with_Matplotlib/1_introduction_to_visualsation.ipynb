{
 "cells": [
  {
   "cell_type": "markdown",
   "metadata": {},
   "source": [
    "# Introduction to Visualisation\n",
    "\n",
    "### Why is visualisation important?\n",
    "Visualisation of data is important for 2 reasons:\n",
    "1. Identification\n",
    "2. Communication\n",
    "\n",
    "**Identification**: It is easier to identify or fine trends with a visual representation. It is much easier than looking at rows and rows of data.\n",
    "\n",
    "**Communication**: Even if an analyst identifies trends/patterns using statistics and just looking at the data, he/she requires a medium of communication that a business person would understand. And, there is no better representation than graphs, plots, nd charts which would convey the findings of an analyst in a better way."
   ]
  },
  {
   "cell_type": "markdown",
   "metadata": {},
   "source": [
    "### How can you visualise data with Python?\n",
    "\n",
    "There are multiple ways in which data can be visualised using Python. the current popular ways that are being used by researchers and industry experts are:\n",
    "- Visualisation using Matplotlib\n",
    "- Visualisation using Pandas wrapper methods\n",
    "- Visualisation using Seaborn\n",
    "\n",
    "Matplotlib is a powerful visualisation library in Python. It has been used in the Pandas wrapper method and also internally by the Seaborn library."
   ]
  },
  {
   "cell_type": "markdown",
   "metadata": {},
   "source": [
    "Let's get started with **Matplotlib**\n",
    "\n",
    "A sample graph looks like this. The following image also contains the various parts of the graph.\n",
    "\n",
    "![Matplotlib sample graph](https://matplotlib.org/_images/anatomy.png)\n",
    "\n",
    "Let's make a simple graph."
   ]
  },
  {
   "cell_type": "code",
   "execution_count": null,
   "metadata": {},
   "outputs": [],
   "source": [
    "import matplotlib.pyplot as plt\n",
    "plt.plot([1,2,3,4])\n",
    "plt.ylabel('Some numbers')\n",
    "plt.xlabel('Same numbers')\n",
    "plt.show()"
   ]
  },
  {
   "cell_type": "code",
   "execution_count": null,
   "metadata": {},
   "outputs": [],
   "source": []
  }
 ],
 "metadata": {
  "kernelspec": {
   "display_name": "Python 3",
   "language": "python",
   "name": "python3"
  },
  "language_info": {
   "codemirror_mode": {
    "name": "ipython",
    "version": 3
   },
   "file_extension": ".py",
   "mimetype": "text/x-python",
   "name": "python",
   "nbconvert_exporter": "python",
   "pygments_lexer": "ipython3",
   "version": "3.9.0+"
  }
 },
 "nbformat": 4,
 "nbformat_minor": 2
}
